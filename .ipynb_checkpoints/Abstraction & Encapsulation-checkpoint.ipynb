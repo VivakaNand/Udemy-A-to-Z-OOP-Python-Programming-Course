{
 "cells": [
  {
   "cell_type": "code",
   "execution_count": 12,
   "id": "05b81954",
   "metadata": {},
   "outputs": [],
   "source": [
    "class Mobile:\n",
    "    def __init__(self, brand, model, price):\n",
    "        self.brand = brand\n",
    "        self.model = model\n",
    "        self.price = price\n",
    "    @staticmethod\n",
    "    def make_a_call(phone_num):\n",
    "        print(f\"calling {phone_num}....\")\n",
    "    \n",
    "    def full_name(self):\n",
    "        return f\"{self.brand} {self.model}\""
   ]
  },
  {
   "cell_type": "code",
   "execution_count": null,
   "id": "384ddf53",
   "metadata": {},
   "outputs": [],
   "source": [
    "class Date:\n",
    "    def __init__(self, year, month, day, hour,minute, sec):\n",
    "        self.year = year\n",
    "        self.month = month        \n",
    "        self.day = day        \n",
    "        self.hour = hour  \n",
    "        self.minute = minute\n",
    "        self.sec = sec\n",
    "        \n",
    "    def arrange_value_into_date_time_pattern(self):\n",
    "        date_time = str(self.year) + '-' + str(self.month) + '-' + str(self.day) + ' ' + str(self.hour) + ':' +str(self.minute) + ':' + str(self.sec)\n",
    "        return date_time\n",
    "    \n",
    "    @classmethod\n",
    "    def getDatafromString(clr, string):\n",
    "        import re\n",
    "        data = re.findall('\\d{4}-\\d{2}-\\d{2}|\\d{2}:\\d{2}:\\d{2}|\\d{2}/\\d{2}/\\d{4}', string)  # 4/4/2024 10:20:24\n",
    "        list_date = data[0].replace('/','-').split('-')\n",
    "        list_time = data[1].split(':')\n",
    "        year = list_date[0]\n",
    "        month = list_date[1]\n",
    "        date = list_date[2]\n",
    "        hour = list_time[0]\n",
    "        minute = list_time[1]\n",
    "        sec = list_time[2]\n",
    "        return clr(year, month, date, hour, minute, sec)  \n",
    "    @staticmethod      # 2024-04-04 11:10:45 ----> 04-04-2024 11:10:45\n",
    "    def setDatePattern(string):\n",
    "        data = re.findall('\\d{4}-\\d{2}-\\d{2}|\\d{2}:\\d{2}:\\d{2}|\\d{2}/\\d{2}/\\d{4}', string)  # 4/4/2024 10:20:24\n",
    "        list_date = data[0].replace('/','-').split('-')\n",
    "        list_time = data[1].split(':')\n",
    "        date_update = list_date[2] + '-' + list_date[1] + '-' + list_date[0] + ' ' + list_time[0]+ ':' + list_time[1]+ ':' + list_time[2]\n",
    "        return date_update"
   ]
  },
  {
   "cell_type": "code",
   "execution_count": 13,
   "id": "764e343e",
   "metadata": {},
   "outputs": [],
   "source": [
    "mobile1 = Mobile('Apple', '15 Pro', 11000)"
   ]
  },
  {
   "cell_type": "code",
   "execution_count": 14,
   "id": "7e79fb71",
   "metadata": {},
   "outputs": [
    {
     "data": {
      "text/plain": [
       "{'brand': 'Apple', 'model': '15 Pro', 'price': 11000}"
      ]
     },
     "execution_count": 14,
     "metadata": {},
     "output_type": "execute_result"
    }
   ],
   "source": [
    "mobile1.__dict__"
   ]
  },
  {
   "cell_type": "code",
   "execution_count": 15,
   "id": "869be81b",
   "metadata": {},
   "outputs": [
    {
     "name": "stdout",
     "output_type": "stream",
     "text": [
      "calling 03412934930....\n"
     ]
    }
   ],
   "source": [
    "mobile1.make_a_call('03412934930')"
   ]
  },
  {
   "cell_type": "code",
   "execution_count": 16,
   "id": "a78ef284",
   "metadata": {},
   "outputs": [
    {
     "data": {
      "text/plain": [
       "'Apple 15 Pro'"
      ]
     },
     "execution_count": 16,
     "metadata": {},
     "output_type": "execute_result"
    }
   ],
   "source": [
    "mobile1.full_name()"
   ]
  },
  {
   "cell_type": "code",
   "execution_count": null,
   "id": "5fc14a17",
   "metadata": {},
   "outputs": [],
   "source": []
  }
 ],
 "metadata": {
  "kernelspec": {
   "display_name": "Python 3 (ipykernel)",
   "language": "python",
   "name": "python3"
  },
  "language_info": {
   "codemirror_mode": {
    "name": "ipython",
    "version": 3
   },
   "file_extension": ".py",
   "mimetype": "text/x-python",
   "name": "python",
   "nbconvert_exporter": "python",
   "pygments_lexer": "ipython3",
   "version": "3.9.12"
  }
 },
 "nbformat": 4,
 "nbformat_minor": 5
}
