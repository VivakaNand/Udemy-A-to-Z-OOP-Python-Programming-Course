{
 "cells": [
  {
   "cell_type": "code",
   "execution_count": 25,
   "id": "f7239f13",
   "metadata": {},
   "outputs": [],
   "source": [
    "class Student:\n",
    "    total_gpa = 4.00\n",
    "    def __init__(self, name, roll_num, gpa):\n",
    "        self.name = name\n",
    "        self.roll_num = roll_num\n",
    "        self.gpa = gpa\n",
    "        self.total_gpa = Student.total_gpa\n",
    "    def result(self):\n",
    "        res = (self.gpa/self.total_gpa)*100\n",
    "        return str(res)+\"%\"\n"
   ]
  },
  {
   "cell_type": "code",
   "execution_count": 26,
   "id": "6aa76c02",
   "metadata": {},
   "outputs": [],
   "source": [
    "Student1 = Student('Aqib', 'D1', 3.5)\n",
    "Student2 = Student('Ateeb', 'D2', 2.5)\n",
    "Student3 = Student('Amjad', 'D3', 3.0)\n",
    "Student4 = Student('Nisar', 'D4', 3.9)"
   ]
  },
  {
   "cell_type": "code",
   "execution_count": 27,
   "id": "6c291a71",
   "metadata": {},
   "outputs": [
    {
     "data": {
      "text/plain": [
       "'Aqib'"
      ]
     },
     "execution_count": 27,
     "metadata": {},
     "output_type": "execute_result"
    }
   ],
   "source": [
    "Student1.name"
   ]
  },
  {
   "cell_type": "code",
   "execution_count": 28,
   "id": "79438516",
   "metadata": {},
   "outputs": [
    {
     "data": {
      "text/plain": [
       "3.5"
      ]
     },
     "execution_count": 28,
     "metadata": {},
     "output_type": "execute_result"
    }
   ],
   "source": [
    "Student1.gpa"
   ]
  },
  {
   "cell_type": "code",
   "execution_count": 29,
   "id": "d0a80188",
   "metadata": {},
   "outputs": [
    {
     "data": {
      "text/plain": [
       "4.0"
      ]
     },
     "execution_count": 29,
     "metadata": {},
     "output_type": "execute_result"
    }
   ],
   "source": [
    "Student1.total_gpa"
   ]
  },
  {
   "cell_type": "code",
   "execution_count": 30,
   "id": "3824a3a5",
   "metadata": {},
   "outputs": [
    {
     "data": {
      "text/plain": [
       "'87.5%'"
      ]
     },
     "execution_count": 30,
     "metadata": {},
     "output_type": "execute_result"
    }
   ],
   "source": [
    "Student1.result()"
   ]
  },
  {
   "cell_type": "code",
   "execution_count": 32,
   "id": "a718239b",
   "metadata": {},
   "outputs": [
    {
     "data": {
      "text/plain": [
       "'75.0%'"
      ]
     },
     "execution_count": 32,
     "metadata": {},
     "output_type": "execute_result"
    }
   ],
   "source": [
    "Student3.result()"
   ]
  },
  {
   "cell_type": "code",
   "execution_count": 33,
   "id": "aac4e74d",
   "metadata": {},
   "outputs": [
    {
     "data": {
      "text/plain": [
       "'97.5%'"
      ]
     },
     "execution_count": 33,
     "metadata": {},
     "output_type": "execute_result"
    }
   ],
   "source": [
    "Student4.result()"
   ]
  },
  {
   "cell_type": "code",
   "execution_count": null,
   "id": "88e3ad93",
   "metadata": {},
   "outputs": [],
   "source": []
  }
 ],
 "metadata": {
  "kernelspec": {
   "display_name": "Python 3 (ipykernel)",
   "language": "python",
   "name": "python3"
  },
  "language_info": {
   "codemirror_mode": {
    "name": "ipython",
    "version": 3
   },
   "file_extension": ".py",
   "mimetype": "text/x-python",
   "name": "python",
   "nbconvert_exporter": "python",
   "pygments_lexer": "ipython3",
   "version": "3.9.12"
  }
 },
 "nbformat": 4,
 "nbformat_minor": 5
}
