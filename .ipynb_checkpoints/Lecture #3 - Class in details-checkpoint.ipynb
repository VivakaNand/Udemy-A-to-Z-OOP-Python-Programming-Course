{
 "cells": [
  {
   "cell_type": "code",
   "execution_count": 1,
   "id": "3dfe8670",
   "metadata": {},
   "outputs": [],
   "source": [
    "class Car:\n",
    "    def __init__(object1, car_name, car_model, car_price):\n",
    "        object1.car_name = car_name\n",
    "        object1.car_model = car_model\n",
    "        object1.car_price = car_price"
   ]
  },
  {
   "cell_type": "code",
   "execution_count": 2,
   "id": "3c9bd196",
   "metadata": {},
   "outputs": [],
   "source": [
    "Car1 = Car('Audi', \"X20\", 312424)"
   ]
  },
  {
   "cell_type": "code",
   "execution_count": 3,
   "id": "48a38f65",
   "metadata": {},
   "outputs": [
    {
     "data": {
      "text/plain": [
       "'X20'"
      ]
     },
     "execution_count": 3,
     "metadata": {},
     "output_type": "execute_result"
    }
   ],
   "source": [
    "Car1.car_model"
   ]
  },
  {
   "cell_type": "code",
   "execution_count": 4,
   "id": "300c5218",
   "metadata": {},
   "outputs": [
    {
     "data": {
      "text/plain": [
       "'Audi'"
      ]
     },
     "execution_count": 4,
     "metadata": {},
     "output_type": "execute_result"
    }
   ],
   "source": [
    "Car1.car_name"
   ]
  },
  {
   "cell_type": "code",
   "execution_count": 5,
   "id": "e251dadc",
   "metadata": {},
   "outputs": [
    {
     "data": {
      "text/plain": [
       "312424"
      ]
     },
     "execution_count": 5,
     "metadata": {},
     "output_type": "execute_result"
    }
   ],
   "source": [
    "Car1.car_price"
   ]
  },
  {
   "cell_type": "code",
   "execution_count": 6,
   "id": "1502e163",
   "metadata": {},
   "outputs": [],
   "source": [
    "class Car:\n",
    "    def __init__(self, car_name, car_model, car_price):\n",
    "        self.name = car_name\n",
    "        self.model = car_model\n",
    "        self.price = car_price"
   ]
  },
  {
   "cell_type": "code",
   "execution_count": 7,
   "id": "a3f4968e",
   "metadata": {},
   "outputs": [],
   "source": [
    "car2 = Car('BMW', 'A20', 2312324)"
   ]
  },
  {
   "cell_type": "code",
   "execution_count": 8,
   "id": "bea2ec2e",
   "metadata": {},
   "outputs": [
    {
     "data": {
      "text/plain": [
       "'A20'"
      ]
     },
     "execution_count": 8,
     "metadata": {},
     "output_type": "execute_result"
    }
   ],
   "source": [
    "car2.model"
   ]
  },
  {
   "cell_type": "code",
   "execution_count": 9,
   "id": "c309af86",
   "metadata": {},
   "outputs": [
    {
     "data": {
      "text/plain": [
       "'BMW'"
      ]
     },
     "execution_count": 9,
     "metadata": {},
     "output_type": "execute_result"
    }
   ],
   "source": [
    "car2.name"
   ]
  },
  {
   "cell_type": "code",
   "execution_count": 10,
   "id": "a9e8ccaf",
   "metadata": {},
   "outputs": [
    {
     "data": {
      "text/plain": [
       "2312324"
      ]
     },
     "execution_count": 10,
     "metadata": {},
     "output_type": "execute_result"
    }
   ],
   "source": [
    "car2.price"
   ]
  },
  {
   "cell_type": "code",
   "execution_count": 11,
   "id": "42530977",
   "metadata": {},
   "outputs": [],
   "source": [
    "class Car:\n",
    "    def __init__(self, car_name, car_model, car_price):\n",
    "        self.pqr = car_name\n",
    "        self.uvw = car_model\n",
    "        self.xyz = car_price"
   ]
  },
  {
   "cell_type": "code",
   "execution_count": 12,
   "id": "84814b58",
   "metadata": {},
   "outputs": [],
   "source": [
    "car3 = Car('Tesla', 'Model-S',234244)"
   ]
  },
  {
   "cell_type": "code",
   "execution_count": 13,
   "id": "5e9ea6d2",
   "metadata": {},
   "outputs": [
    {
     "data": {
      "text/plain": [
       "'Tesla'"
      ]
     },
     "execution_count": 13,
     "metadata": {},
     "output_type": "execute_result"
    }
   ],
   "source": [
    "car3.pqr"
   ]
  },
  {
   "cell_type": "code",
   "execution_count": 14,
   "id": "984b0ca1",
   "metadata": {},
   "outputs": [
    {
     "data": {
      "text/plain": [
       "'Model-S'"
      ]
     },
     "execution_count": 14,
     "metadata": {},
     "output_type": "execute_result"
    }
   ],
   "source": [
    "car3.uvw"
   ]
  },
  {
   "cell_type": "code",
   "execution_count": 15,
   "id": "9f14b79d",
   "metadata": {},
   "outputs": [
    {
     "data": {
      "text/plain": [
       "234244"
      ]
     },
     "execution_count": 15,
     "metadata": {},
     "output_type": "execute_result"
    }
   ],
   "source": [
    "car3.xyz"
   ]
  },
  {
   "cell_type": "code",
   "execution_count": null,
   "id": "716ad161",
   "metadata": {},
   "outputs": [],
   "source": []
  }
 ],
 "metadata": {
  "kernelspec": {
   "display_name": "Python 3 (ipykernel)",
   "language": "python",
   "name": "python3"
  },
  "language_info": {
   "codemirror_mode": {
    "name": "ipython",
    "version": 3
   },
   "file_extension": ".py",
   "mimetype": "text/x-python",
   "name": "python",
   "nbconvert_exporter": "python",
   "pygments_lexer": "ipython3",
   "version": "3.9.12"
  }
 },
 "nbformat": 4,
 "nbformat_minor": 5
}
