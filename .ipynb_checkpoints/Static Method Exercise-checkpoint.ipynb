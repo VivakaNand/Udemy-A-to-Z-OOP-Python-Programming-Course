{
 "cells": [
  {
   "cell_type": "code",
   "execution_count": 127,
   "id": "0c3fa993",
   "metadata": {},
   "outputs": [],
   "source": [
    "class Date:\n",
    "    def __init__(self, year, month, day, hour,minute, sec):\n",
    "        self.year = year\n",
    "        self.month = month        \n",
    "        self.day = day        \n",
    "        self.hour = hour  \n",
    "        self.minute = minute\n",
    "        self.sec = sec\n",
    "        \n",
    "    def arrange_value_into_date_time_pattern(self):\n",
    "        date_time = str(self.year) + '-' + str(self.month) + '-' + str(self.day) + ' ' + str(self.hour) + ':' +str(self.minute) + ':' + str(self.sec)\n",
    "        return date_time\n",
    "    \n",
    "    @classmethod\n",
    "    def getDatafromString(clr, string):\n",
    "        import re\n",
    "        data = re.findall('\\d{4}-\\d{2}-\\d{2}|\\d{2}:\\d{2}:\\d{2}|\\d{2}/\\d{2}/\\d{4}', string)  # 4/4/2024 10:20:24\n",
    "        list_date = data[0].replace('/','-').split('-')\n",
    "        list_time = data[1].split(':')\n",
    "        year = list_date[0]\n",
    "        month = list_date[1]\n",
    "        date = list_date[2]\n",
    "        hour = list_time[0]\n",
    "        minute = list_time[1]\n",
    "        sec = list_time[2]\n",
    "        return clr(year, month, date, hour, minute, sec)  \n",
    "    @staticmethod      # 2024-04-04 11:10:45 ----> 04-04-2024 11:10:45\n",
    "    def setDatePattern(string):\n",
    "        data = re.findall('\\d{4}-\\d{2}-\\d{2}|\\d{2}:\\d{2}:\\d{2}|\\d{2}/\\d{2}/\\d{4}', string)  # 4/4/2024 10:20:24\n",
    "        list_date = data[0].replace('/','-').split('-')\n",
    "        list_time = data[1].split(':')\n",
    "        date_update = list_date[2] + '-' + list_date[1] + '-' + list_date[0] + ' ' + list_time[0]+ ':' + list_time[1]+ ':' + list_time[2]\n",
    "        return date_update"
   ]
  },
  {
   "cell_type": "code",
   "execution_count": 128,
   "id": "523a4f23",
   "metadata": {},
   "outputs": [],
   "source": [
    "date_time1 = Date(2024, 4, 4, 9, 24, 20)"
   ]
  },
  {
   "cell_type": "code",
   "execution_count": 129,
   "id": "3f3b00b4",
   "metadata": {},
   "outputs": [
    {
     "data": {
      "text/plain": [
       "{'year': 2024, 'month': 4, 'day': 4, 'hour': 9, 'minute': 24, 'sec': 20}"
      ]
     },
     "execution_count": 129,
     "metadata": {},
     "output_type": "execute_result"
    }
   ],
   "source": [
    "date_time1.__dict__"
   ]
  },
  {
   "cell_type": "code",
   "execution_count": 130,
   "id": "bef5a70c",
   "metadata": {},
   "outputs": [
    {
     "data": {
      "text/plain": [
       "'2024-4-4 9:24:20'"
      ]
     },
     "execution_count": 130,
     "metadata": {},
     "output_type": "execute_result"
    }
   ],
   "source": [
    "date_time1.arrange_value_into_date_time_pattern()"
   ]
  },
  {
   "cell_type": "code",
   "execution_count": 131,
   "id": "a2efcc39",
   "metadata": {},
   "outputs": [],
   "source": [
    "date_time2 = Date.getDatafromString('Today date time is 2024-04-04 10:26:25')"
   ]
  },
  {
   "cell_type": "code",
   "execution_count": 132,
   "id": "2b4615ef",
   "metadata": {},
   "outputs": [
    {
     "data": {
      "text/plain": [
       "{'year': '2024',\n",
       " 'month': '04',\n",
       " 'day': '04',\n",
       " 'hour': '10',\n",
       " 'minute': '26',\n",
       " 'sec': '25'}"
      ]
     },
     "execution_count": 132,
     "metadata": {},
     "output_type": "execute_result"
    }
   ],
   "source": [
    "date_time2.__dict__"
   ]
  },
  {
   "cell_type": "code",
   "execution_count": 133,
   "id": "a8e7873e",
   "metadata": {},
   "outputs": [
    {
     "data": {
      "text/plain": [
       "'2024-04-04 10:26:25'"
      ]
     },
     "execution_count": 133,
     "metadata": {},
     "output_type": "execute_result"
    }
   ],
   "source": [
    "date_time2.arrange_value_into_date_time_pattern()"
   ]
  },
  {
   "cell_type": "code",
   "execution_count": 134,
   "id": "05e6517e",
   "metadata": {},
   "outputs": [],
   "source": [
    "date_time3 = Date(2024,4,4,11,15,34)"
   ]
  },
  {
   "cell_type": "code",
   "execution_count": 135,
   "id": "815b117e",
   "metadata": {},
   "outputs": [
    {
     "data": {
      "text/plain": [
       "{'year': 2024, 'month': 4, 'day': 4, 'hour': 11, 'minute': 15, 'sec': 34}"
      ]
     },
     "execution_count": 135,
     "metadata": {},
     "output_type": "execute_result"
    }
   ],
   "source": [
    "date_time3.__dict__"
   ]
  },
  {
   "cell_type": "code",
   "execution_count": 136,
   "id": "b405dfab",
   "metadata": {},
   "outputs": [
    {
     "data": {
      "text/plain": [
       "'04-04-2024 11:15:34'"
      ]
     },
     "execution_count": 136,
     "metadata": {},
     "output_type": "execute_result"
    }
   ],
   "source": [
    "date_time3.setDatePattern('2024-04-04 11:15:34')"
   ]
  },
  {
   "cell_type": "code",
   "execution_count": null,
   "id": "565e4b75",
   "metadata": {},
   "outputs": [],
   "source": []
  }
 ],
 "metadata": {
  "kernelspec": {
   "display_name": "Python 3 (ipykernel)",
   "language": "python",
   "name": "python3"
  },
  "language_info": {
   "codemirror_mode": {
    "name": "ipython",
    "version": 3
   },
   "file_extension": ".py",
   "mimetype": "text/x-python",
   "name": "python",
   "nbconvert_exporter": "python",
   "pygments_lexer": "ipython3",
   "version": "3.9.12"
  }
 },
 "nbformat": 4,
 "nbformat_minor": 5
}
