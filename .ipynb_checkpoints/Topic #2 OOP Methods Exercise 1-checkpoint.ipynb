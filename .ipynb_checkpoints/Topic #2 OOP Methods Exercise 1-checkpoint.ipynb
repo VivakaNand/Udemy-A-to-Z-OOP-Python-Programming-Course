{
 "cells": [
  {
   "cell_type": "code",
   "execution_count": 7,
   "id": "6eec8205",
   "metadata": {},
   "outputs": [],
   "source": [
    "class Product:\n",
    "    def __init__(self, prod_name, model, price):\n",
    "        self.prod_name = prod_name\n",
    "        self.model = model\n",
    "        self.price = price\n",
    "    def buy_or_not(self):\n",
    "        if self.price < 40000:\n",
    "            return 'Buy the Car'\n",
    "        else:\n",
    "            return \"No! Don't Buy\""
   ]
  },
  {
   "cell_type": "code",
   "execution_count": 8,
   "id": "5c295940",
   "metadata": {},
   "outputs": [],
   "source": [
    "car1 = Product('BMW','X1',20000)\n",
    "car2 = Product('Audi','Q1',30000)\n",
    "car3 = Product('Honda','S1',200000)\n",
    "car4 = Product('TATA','Y2',50000)\n",
    "car5 = Product('MG','A3',10000)\n",
    "car6 = Product('LC','V8',30000)"
   ]
  },
  {
   "cell_type": "code",
   "execution_count": 9,
   "id": "6d929a20",
   "metadata": {},
   "outputs": [],
   "source": [
    "cars = [car1,car2,car3,car4,car5,car6]"
   ]
  },
  {
   "cell_type": "code",
   "execution_count": 11,
   "id": "20ce162c",
   "metadata": {},
   "outputs": [],
   "source": [
    "buy_cars = []\n",
    "not_buy_cars = []\n",
    "cars_status = {}\n",
    "for x in cars:\n",
    "    if x.buy_or_not() == 'Buy the Car':\n",
    "        buy_cars.append(x.prod_name)\n",
    "        cars_status['Bought Cars'] = buy_cars\n",
    "    else:\n",
    "        not_buy_cars.append(x.prod_name)\n",
    "        cars_status['Not Buy Cars'] = not_buy_cars"
   ]
  },
  {
   "cell_type": "code",
   "execution_count": 12,
   "id": "e0ba9c9d",
   "metadata": {},
   "outputs": [
    {
     "data": {
      "text/plain": [
       "{'Bought Cars': ['BMW', 'Audi', 'MG', 'LC'], 'Not Buy Cars': ['Honda', 'TATA']}"
      ]
     },
     "execution_count": 12,
     "metadata": {},
     "output_type": "execute_result"
    }
   ],
   "source": [
    "cars_status"
   ]
  },
  {
   "cell_type": "code",
   "execution_count": null,
   "id": "9424f753",
   "metadata": {},
   "outputs": [],
   "source": []
  }
 ],
 "metadata": {
  "kernelspec": {
   "display_name": "Python 3 (ipykernel)",
   "language": "python",
   "name": "python3"
  },
  "language_info": {
   "codemirror_mode": {
    "name": "ipython",
    "version": 3
   },
   "file_extension": ".py",
   "mimetype": "text/x-python",
   "name": "python",
   "nbconvert_exporter": "python",
   "pygments_lexer": "ipython3",
   "version": "3.9.12"
  }
 },
 "nbformat": 4,
 "nbformat_minor": 5
}
