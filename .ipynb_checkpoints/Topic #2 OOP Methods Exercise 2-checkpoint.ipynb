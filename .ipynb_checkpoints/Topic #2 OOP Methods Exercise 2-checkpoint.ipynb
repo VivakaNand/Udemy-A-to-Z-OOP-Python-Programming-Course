{
 "cells": [
  {
   "cell_type": "code",
   "execution_count": 13,
   "id": "641f91ee",
   "metadata": {},
   "outputs": [],
   "source": [
    "class Product:\n",
    "    def __init__(self, prod_name, price):\n",
    "        self.prod_name = prod_name\n",
    "        self.price = price\n",
    "    def discount(self, discount):\n",
    "        discount_price = (self.price/100)*discount\n",
    "        actual_price = self.price - discount_price\n",
    "        return int(actual_price)"
   ]
  },
  {
   "cell_type": "code",
   "execution_count": 14,
   "id": "dc5cd1f0",
   "metadata": {},
   "outputs": [],
   "source": [
    "laptop = Product('Laptop', 54000)"
   ]
  },
  {
   "cell_type": "code",
   "execution_count": 15,
   "id": "3f3a6617",
   "metadata": {},
   "outputs": [
    {
     "data": {
      "text/plain": [
       "54000"
      ]
     },
     "execution_count": 15,
     "metadata": {},
     "output_type": "execute_result"
    }
   ],
   "source": [
    "laptop.price"
   ]
  },
  {
   "cell_type": "code",
   "execution_count": 16,
   "id": "6bd8050a",
   "metadata": {},
   "outputs": [
    {
     "data": {
      "text/plain": [
       "48600"
      ]
     },
     "execution_count": 16,
     "metadata": {},
     "output_type": "execute_result"
    }
   ],
   "source": [
    "laptop.discount(10)"
   ]
  },
  {
   "cell_type": "code",
   "execution_count": 17,
   "id": "baefb6ee",
   "metadata": {},
   "outputs": [],
   "source": [
    "mobile = Product('Mobile', 35000)"
   ]
  },
  {
   "cell_type": "code",
   "execution_count": 18,
   "id": "7d11968a",
   "metadata": {},
   "outputs": [
    {
     "data": {
      "text/plain": [
       "35000"
      ]
     },
     "execution_count": 18,
     "metadata": {},
     "output_type": "execute_result"
    }
   ],
   "source": [
    "mobile.price"
   ]
  },
  {
   "cell_type": "code",
   "execution_count": 19,
   "id": "a2118998",
   "metadata": {},
   "outputs": [
    {
     "data": {
      "text/plain": [
       "33600"
      ]
     },
     "execution_count": 19,
     "metadata": {},
     "output_type": "execute_result"
    }
   ],
   "source": [
    "mobile.discount(4)"
   ]
  },
  {
   "cell_type": "code",
   "execution_count": null,
   "id": "2b49c77b",
   "metadata": {},
   "outputs": [],
   "source": []
  }
 ],
 "metadata": {
  "kernelspec": {
   "display_name": "Python 3 (ipykernel)",
   "language": "python",
   "name": "python3"
  },
  "language_info": {
   "codemirror_mode": {
    "name": "ipython",
    "version": 3
   },
   "file_extension": ".py",
   "mimetype": "text/x-python",
   "name": "python",
   "nbconvert_exporter": "python",
   "pygments_lexer": "ipython3",
   "version": "3.9.12"
  }
 },
 "nbformat": 4,
 "nbformat_minor": 5
}
