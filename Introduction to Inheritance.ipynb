{
 "cells": [
  {
   "cell_type": "code",
   "execution_count": 1,
   "id": "79eda0f6",
   "metadata": {},
   "outputs": [],
   "source": [
    "class Phone: # Base Class / Parent Class\n",
    "    def __init__(self, brand, model, price):\n",
    "        self.brand = brand\n",
    "        self.model = model\n",
    "        self.price = price\n",
    "    @staticmethod\n",
    "    def make_a_call(phone_num):\n",
    "        print(f\"calling {phone_num}....\")\n",
    "    \n",
    "    def full_name(self):\n",
    "        return f\"{self.brand} {self.model}\""
   ]
  },
  {
   "cell_type": "code",
   "execution_count": 2,
   "id": "96f2b0a8",
   "metadata": {},
   "outputs": [],
   "source": [
    "class SmartPhone(Phone): # Derived Class / Child Class\n",
    "    def __init__(self, brand, model, price, ram, internal_memory, rare_camera):\n",
    "        super().__init__(brand, model, price)  # common way\n",
    "        # Phone.__init__(self, brand, model, price)  #Uncommon way\n",
    "        self.ram = ram\n",
    "        self.internal_memory = internal_memory\n",
    "        self. rare_camera = rare_camera\n",
    "    "
   ]
  },
  {
   "cell_type": "code",
   "execution_count": 3,
   "id": "2539f28e",
   "metadata": {},
   "outputs": [],
   "source": [
    "Phone1 = Phone('Apple','15 Pro', 110000)"
   ]
  },
  {
   "cell_type": "code",
   "execution_count": 4,
   "id": "32b65814",
   "metadata": {},
   "outputs": [
    {
     "data": {
      "text/plain": [
       "110000"
      ]
     },
     "execution_count": 4,
     "metadata": {},
     "output_type": "execute_result"
    }
   ],
   "source": [
    "Phone1.price"
   ]
  },
  {
   "cell_type": "code",
   "execution_count": 5,
   "id": "bdd587c9",
   "metadata": {},
   "outputs": [
    {
     "data": {
      "text/plain": [
       "'15 Pro'"
      ]
     },
     "execution_count": 5,
     "metadata": {},
     "output_type": "execute_result"
    }
   ],
   "source": [
    "Phone1.model"
   ]
  },
  {
   "cell_type": "code",
   "execution_count": 6,
   "id": "0ef8509b",
   "metadata": {},
   "outputs": [
    {
     "data": {
      "text/plain": [
       "'Apple'"
      ]
     },
     "execution_count": 6,
     "metadata": {},
     "output_type": "execute_result"
    }
   ],
   "source": [
    "Phone1.brand"
   ]
  },
  {
   "cell_type": "code",
   "execution_count": 8,
   "id": "ef3fdf5c",
   "metadata": {},
   "outputs": [
    {
     "data": {
      "text/plain": [
       "'Apple 15 Pro'"
      ]
     },
     "execution_count": 8,
     "metadata": {},
     "output_type": "execute_result"
    }
   ],
   "source": [
    "Phone1.full_name()"
   ]
  },
  {
   "cell_type": "code",
   "execution_count": 9,
   "id": "b57d540b",
   "metadata": {},
   "outputs": [],
   "source": [
    "SmartPhone1 = SmartPhone('Nokia', 'X1', 430000,'6GB','256GB','50MP')"
   ]
  },
  {
   "cell_type": "code",
   "execution_count": 10,
   "id": "45fb722d",
   "metadata": {},
   "outputs": [
    {
     "data": {
      "text/plain": [
       "'Nokia X1'"
      ]
     },
     "execution_count": 10,
     "metadata": {},
     "output_type": "execute_result"
    }
   ],
   "source": [
    "SmartPhone1.full_name()"
   ]
  },
  {
   "cell_type": "code",
   "execution_count": 11,
   "id": "51a32573",
   "metadata": {},
   "outputs": [
    {
     "data": {
      "text/plain": [
       "430000"
      ]
     },
     "execution_count": 11,
     "metadata": {},
     "output_type": "execute_result"
    }
   ],
   "source": [
    "SmartPhone1.price"
   ]
  },
  {
   "cell_type": "code",
   "execution_count": 12,
   "id": "ab751421",
   "metadata": {},
   "outputs": [
    {
     "data": {
      "text/plain": [
       "'Nokia'"
      ]
     },
     "execution_count": 12,
     "metadata": {},
     "output_type": "execute_result"
    }
   ],
   "source": [
    "SmartPhone1.brand"
   ]
  },
  {
   "cell_type": "code",
   "execution_count": 13,
   "id": "718be613",
   "metadata": {},
   "outputs": [
    {
     "data": {
      "text/plain": [
       "'256GB'"
      ]
     },
     "execution_count": 13,
     "metadata": {},
     "output_type": "execute_result"
    }
   ],
   "source": [
    "SmartPhone1.internal_memory"
   ]
  },
  {
   "cell_type": "code",
   "execution_count": null,
   "id": "e8ceb0b2",
   "metadata": {},
   "outputs": [],
   "source": []
  }
 ],
 "metadata": {
  "kernelspec": {
   "display_name": "Python 3 (ipykernel)",
   "language": "python",
   "name": "python3"
  },
  "language_info": {
   "codemirror_mode": {
    "name": "ipython",
    "version": 3
   },
   "file_extension": ".py",
   "mimetype": "text/x-python",
   "name": "python",
   "nbconvert_exporter": "python",
   "pygments_lexer": "ipython3",
   "version": "3.9.12"
  }
 },
 "nbformat": 4,
 "nbformat_minor": 5
}
