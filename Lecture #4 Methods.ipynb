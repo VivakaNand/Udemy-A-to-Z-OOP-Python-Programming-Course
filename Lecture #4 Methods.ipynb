{
 "cells": [
  {
   "cell_type": "code",
   "execution_count": 3,
   "id": "93283c3d",
   "metadata": {},
   "outputs": [],
   "source": [
    "class Product:\n",
    "    def __init__(self, prod_name, model, color,price):\n",
    "        self.prod_name = prod_name\n",
    "        self.model = model\n",
    "        self.color = color\n",
    "        self.price = price\n",
    "    def buy_or_not(self):\n",
    "        if self.price < 5000:\n",
    "            print('Buy the Car')\n",
    "        else:\n",
    "            print(\"No! Don't Buy\")"
   ]
  },
  {
   "cell_type": "code",
   "execution_count": 4,
   "id": "a3ec09ef",
   "metadata": {},
   "outputs": [],
   "source": [
    "car1 = Product('Car', '2024', 'Black', 50000)"
   ]
  },
  {
   "cell_type": "code",
   "execution_count": 5,
   "id": "66f531c2",
   "metadata": {},
   "outputs": [
    {
     "name": "stdout",
     "output_type": "stream",
     "text": [
      "No! Don't Buy\n"
     ]
    }
   ],
   "source": [
    "car1.buy_or_not()"
   ]
  },
  {
   "cell_type": "code",
   "execution_count": 6,
   "id": "dcf59298",
   "metadata": {},
   "outputs": [],
   "source": [
    "car2 = Product('Car', '2023', 'Black', 4000)"
   ]
  },
  {
   "cell_type": "code",
   "execution_count": 7,
   "id": "3e15a436",
   "metadata": {},
   "outputs": [
    {
     "name": "stdout",
     "output_type": "stream",
     "text": [
      "Buy the Car\n"
     ]
    }
   ],
   "source": [
    "car2.buy_or_not()"
   ]
  },
  {
   "cell_type": "code",
   "execution_count": null,
   "id": "6c61b72a",
   "metadata": {},
   "outputs": [],
   "source": []
  }
 ],
 "metadata": {
  "kernelspec": {
   "display_name": "Python 3 (ipykernel)",
   "language": "python",
   "name": "python3"
  },
  "language_info": {
   "codemirror_mode": {
    "name": "ipython",
    "version": 3
   },
   "file_extension": ".py",
   "mimetype": "text/x-python",
   "name": "python",
   "nbconvert_exporter": "python",
   "pygments_lexer": "ipython3",
   "version": "3.9.12"
  }
 },
 "nbformat": 4,
 "nbformat_minor": 5
}
