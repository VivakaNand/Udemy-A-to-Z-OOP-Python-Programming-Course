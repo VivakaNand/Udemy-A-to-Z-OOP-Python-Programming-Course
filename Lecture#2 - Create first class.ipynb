{
 "cells": [
  {
   "cell_type": "code",
   "execution_count": 1,
   "id": "4cf6f90e",
   "metadata": {},
   "outputs": [],
   "source": [
    "### Create simple Car Class"
   ]
  },
  {
   "cell_type": "code",
   "execution_count": 2,
   "id": "f88edd2a",
   "metadata": {},
   "outputs": [],
   "source": [
    "class Car:\n",
    "    def __init__(self, car_name, car_model, car_price):\n",
    "        self.car_name = car_name\n",
    "        self.car_model = car_model\n",
    "        self.car_price = car_price"
   ]
  },
  {
   "cell_type": "code",
   "execution_count": 3,
   "id": "039df3d8",
   "metadata": {},
   "outputs": [],
   "source": [
    "Car1 = Car('BMW', 'X120', 123456)"
   ]
  },
  {
   "cell_type": "code",
   "execution_count": 4,
   "id": "30dcb557",
   "metadata": {},
   "outputs": [
    {
     "data": {
      "text/plain": [
       "'BMW'"
      ]
     },
     "execution_count": 4,
     "metadata": {},
     "output_type": "execute_result"
    }
   ],
   "source": [
    "Car1.car_name"
   ]
  },
  {
   "cell_type": "code",
   "execution_count": 5,
   "id": "a742d2d9",
   "metadata": {},
   "outputs": [
    {
     "data": {
      "text/plain": [
       "'X120'"
      ]
     },
     "execution_count": 5,
     "metadata": {},
     "output_type": "execute_result"
    }
   ],
   "source": [
    "Car1.car_model"
   ]
  },
  {
   "cell_type": "code",
   "execution_count": 6,
   "id": "76834d47",
   "metadata": {},
   "outputs": [
    {
     "data": {
      "text/plain": [
       "123456"
      ]
     },
     "execution_count": 6,
     "metadata": {},
     "output_type": "execute_result"
    }
   ],
   "source": [
    "Car1.car_price"
   ]
  },
  {
   "cell_type": "code",
   "execution_count": null,
   "id": "ce3445d8",
   "metadata": {},
   "outputs": [],
   "source": []
  }
 ],
 "metadata": {
  "kernelspec": {
   "display_name": "Python 3 (ipykernel)",
   "language": "python",
   "name": "python3"
  },
  "language_info": {
   "codemirror_mode": {
    "name": "ipython",
    "version": 3
   },
   "file_extension": ".py",
   "mimetype": "text/x-python",
   "name": "python",
   "nbconvert_exporter": "python",
   "pygments_lexer": "ipython3",
   "version": "3.9.12"
  }
 },
 "nbformat": 4,
 "nbformat_minor": 5
}
