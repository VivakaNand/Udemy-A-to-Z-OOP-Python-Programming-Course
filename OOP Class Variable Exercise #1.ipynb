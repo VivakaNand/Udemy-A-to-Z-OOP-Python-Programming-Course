{
 "cells": [
  {
   "cell_type": "markdown",
   "id": "9d453916",
   "metadata": {},
   "source": [
    "Define a circle with two methods\n",
    "\n",
    "1. Circumference of Circle\n",
    "2. Area of circle"
   ]
  },
  {
   "cell_type": "code",
   "execution_count": 2,
   "id": "2aee6e03",
   "metadata": {},
   "outputs": [],
   "source": [
    "class Circle:\n",
    "    pai = 3.14\n",
    "    def __init__(self, radius):\n",
    "        self.radius = radius\n",
    "        \n",
    "    def circumference_of_circle(self):\n",
    "        cf_of_circle_value =(2 * Circle.pai * self.radius)\n",
    "        return cf_of_circle_value\n",
    "    \n",
    "    def area_of_circle(self):\n",
    "        area_value = Circle.pai * self.radius ** 2\n",
    "        return area_value"
   ]
  },
  {
   "cell_type": "code",
   "execution_count": 6,
   "id": "f10c09a0",
   "metadata": {},
   "outputs": [
    {
     "data": {
      "text/plain": [
       "314.0"
      ]
     },
     "execution_count": 6,
     "metadata": {},
     "output_type": "execute_result"
    }
   ],
   "source": [
    "c1 = Circle(10)\n",
    "c1.area_of_circle()"
   ]
  },
  {
   "cell_type": "code",
   "execution_count": 7,
   "id": "e170deaf",
   "metadata": {},
   "outputs": [
    {
     "data": {
      "text/plain": [
       "62.800000000000004"
      ]
     },
     "execution_count": 7,
     "metadata": {},
     "output_type": "execute_result"
    }
   ],
   "source": [
    "c1.circumference_of_circle()"
   ]
  },
  {
   "cell_type": "code",
   "execution_count": 8,
   "id": "d0cba845",
   "metadata": {},
   "outputs": [],
   "source": [
    "c2 = Circle(24)"
   ]
  },
  {
   "cell_type": "code",
   "execution_count": 9,
   "id": "6aae4871",
   "metadata": {},
   "outputs": [
    {
     "data": {
      "text/plain": [
       "1808.64"
      ]
     },
     "execution_count": 9,
     "metadata": {},
     "output_type": "execute_result"
    }
   ],
   "source": [
    "c2.area_of_circle()"
   ]
  },
  {
   "cell_type": "code",
   "execution_count": 10,
   "id": "866a4231",
   "metadata": {},
   "outputs": [
    {
     "data": {
      "text/plain": [
       "24"
      ]
     },
     "execution_count": 10,
     "metadata": {},
     "output_type": "execute_result"
    }
   ],
   "source": [
    "c2.radius"
   ]
  },
  {
   "cell_type": "code",
   "execution_count": 11,
   "id": "c1b9e1b2",
   "metadata": {},
   "outputs": [
    {
     "data": {
      "text/plain": [
       "150.72"
      ]
     },
     "execution_count": 11,
     "metadata": {},
     "output_type": "execute_result"
    }
   ],
   "source": [
    "c2.circumference_of_circle()"
   ]
  },
  {
   "cell_type": "code",
   "execution_count": null,
   "id": "4c965d80",
   "metadata": {},
   "outputs": [],
   "source": []
  }
 ],
 "metadata": {
  "kernelspec": {
   "display_name": "Python 3 (ipykernel)",
   "language": "python",
   "name": "python3"
  },
  "language_info": {
   "codemirror_mode": {
    "name": "ipython",
    "version": 3
   },
   "file_extension": ".py",
   "mimetype": "text/x-python",
   "name": "python",
   "nbconvert_exporter": "python",
   "pygments_lexer": "ipython3",
   "version": "3.9.12"
  }
 },
 "nbformat": 4,
 "nbformat_minor": 5
}
