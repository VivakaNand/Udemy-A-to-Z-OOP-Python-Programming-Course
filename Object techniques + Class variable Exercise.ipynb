{
 "cells": [
  {
   "cell_type": "markdown",
   "id": "6d067bf6",
   "metadata": {},
   "source": [
    "### Add new attributes to existing class init"
   ]
  },
  {
   "cell_type": "code",
   "execution_count": 3,
   "id": "6f8a2bc6",
   "metadata": {},
   "outputs": [],
   "source": [
    "class Product:\n",
    "    def __init__(self, name, model):\n",
    "        self.name = name\n",
    "        self.model = model"
   ]
  },
  {
   "cell_type": "code",
   "execution_count": 4,
   "id": "01502481",
   "metadata": {},
   "outputs": [],
   "source": [
    "laptop1 = Product('HP', 'G2')\n",
    "laptop2 = Product('DELL', 'XPS')"
   ]
  },
  {
   "cell_type": "code",
   "execution_count": 5,
   "id": "de3cfdb0",
   "metadata": {},
   "outputs": [
    {
     "data": {
      "text/plain": [
       "'HP'"
      ]
     },
     "execution_count": 5,
     "metadata": {},
     "output_type": "execute_result"
    }
   ],
   "source": [
    "laptop1.name"
   ]
  },
  {
   "cell_type": "code",
   "execution_count": 10,
   "id": "992120b8",
   "metadata": {},
   "outputs": [
    {
     "data": {
      "text/plain": [
       "{'name': 'HP', 'model': 'G2'}"
      ]
     },
     "execution_count": 10,
     "metadata": {},
     "output_type": "execute_result"
    }
   ],
   "source": [
    "laptop1.__dict__"
   ]
  },
  {
   "cell_type": "code",
   "execution_count": 11,
   "id": "5c79f3a9",
   "metadata": {},
   "outputs": [],
   "source": [
    "laptop1.camera = 'yes'"
   ]
  },
  {
   "cell_type": "code",
   "execution_count": 12,
   "id": "3a174c7d",
   "metadata": {},
   "outputs": [
    {
     "data": {
      "text/plain": [
       "{'name': 'HP', 'model': 'G2', 'camera': 'yes'}"
      ]
     },
     "execution_count": 12,
     "metadata": {},
     "output_type": "execute_result"
    }
   ],
   "source": [
    "laptop1.__dict__"
   ]
  },
  {
   "cell_type": "code",
   "execution_count": 13,
   "id": "eaeb1ff8",
   "metadata": {},
   "outputs": [
    {
     "data": {
      "text/plain": [
       "'DELL'"
      ]
     },
     "execution_count": 13,
     "metadata": {},
     "output_type": "execute_result"
    }
   ],
   "source": [
    "laptop2.name"
   ]
  },
  {
   "cell_type": "code",
   "execution_count": 14,
   "id": "1cdc3a38",
   "metadata": {},
   "outputs": [],
   "source": [
    "laptop2.bluetooth = 'yes'"
   ]
  },
  {
   "cell_type": "code",
   "execution_count": 15,
   "id": "f20d3f76",
   "metadata": {},
   "outputs": [
    {
     "data": {
      "text/plain": [
       "{'name': 'DELL', 'model': 'XPS', 'bluetooth': 'yes'}"
      ]
     },
     "execution_count": 15,
     "metadata": {},
     "output_type": "execute_result"
    }
   ],
   "source": [
    "laptop2.__dict__"
   ]
  },
  {
   "cell_type": "code",
   "execution_count": null,
   "id": "e4b48165",
   "metadata": {},
   "outputs": [],
   "source": []
  }
 ],
 "metadata": {
  "kernelspec": {
   "display_name": "Python 3 (ipykernel)",
   "language": "python",
   "name": "python3"
  },
  "language_info": {
   "codemirror_mode": {
    "name": "ipython",
    "version": 3
   },
   "file_extension": ".py",
   "mimetype": "text/x-python",
   "name": "python",
   "nbconvert_exporter": "python",
   "pygments_lexer": "ipython3",
   "version": "3.9.12"
  }
 },
 "nbformat": 4,
 "nbformat_minor": 5
}
