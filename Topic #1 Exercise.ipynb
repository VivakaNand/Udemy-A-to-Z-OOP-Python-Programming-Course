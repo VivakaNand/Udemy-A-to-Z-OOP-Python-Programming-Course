{
 "cells": [
  {
   "cell_type": "markdown",
   "id": "d5ff9d78",
   "metadata": {},
   "source": [
    "Create a class 'Product' with attributes like product name, brand name, model name, and price"
   ]
  },
  {
   "cell_type": "code",
   "execution_count": 23,
   "id": "3070dec7",
   "metadata": {},
   "outputs": [],
   "source": [
    "class Product:\n",
    "    def __init__(self, product_name, brand_name, model_name, price):\n",
    "        self.product_name = product_name\n",
    "        self.brand_name = brand_name\n",
    "        self.model_name = model_name\n",
    "        self.price = price\n",
    "        self.brandNamewithModelName = brand_name + ' ' + model_name"
   ]
  },
  {
   "cell_type": "code",
   "execution_count": 24,
   "id": "b24727f3",
   "metadata": {},
   "outputs": [],
   "source": [
    "laptop = Product('Laptop', 'Hp', '840-G2', 42000)"
   ]
  },
  {
   "cell_type": "code",
   "execution_count": 25,
   "id": "ff03a4a8",
   "metadata": {},
   "outputs": [
    {
     "data": {
      "text/plain": [
       "'Laptop'"
      ]
     },
     "execution_count": 25,
     "metadata": {},
     "output_type": "execute_result"
    }
   ],
   "source": [
    "laptop.product_name"
   ]
  },
  {
   "cell_type": "code",
   "execution_count": 26,
   "id": "75276114",
   "metadata": {},
   "outputs": [
    {
     "data": {
      "text/plain": [
       "'Hp'"
      ]
     },
     "execution_count": 26,
     "metadata": {},
     "output_type": "execute_result"
    }
   ],
   "source": [
    "laptop.brand_name"
   ]
  },
  {
   "cell_type": "code",
   "execution_count": 27,
   "id": "803fed9d",
   "metadata": {},
   "outputs": [
    {
     "data": {
      "text/plain": [
       "'840-G2'"
      ]
     },
     "execution_count": 27,
     "metadata": {},
     "output_type": "execute_result"
    }
   ],
   "source": [
    "laptop.model_name"
   ]
  },
  {
   "cell_type": "code",
   "execution_count": 28,
   "id": "3375b280",
   "metadata": {},
   "outputs": [
    {
     "data": {
      "text/plain": [
       "42000"
      ]
     },
     "execution_count": 28,
     "metadata": {},
     "output_type": "execute_result"
    }
   ],
   "source": [
    "laptop.price"
   ]
  },
  {
   "cell_type": "code",
   "execution_count": 30,
   "id": "b1a1432e",
   "metadata": {},
   "outputs": [
    {
     "data": {
      "text/plain": [
       "'Hp 840-G2'"
      ]
     },
     "execution_count": 30,
     "metadata": {},
     "output_type": "execute_result"
    }
   ],
   "source": [
    "laptop.brandNamewithModelName"
   ]
  },
  {
   "cell_type": "code",
   "execution_count": 31,
   "id": "935c04b7",
   "metadata": {},
   "outputs": [],
   "source": [
    "mobile = Product('Mobile', 'Iphone', '15 Pro Max', 210000)"
   ]
  },
  {
   "cell_type": "code",
   "execution_count": 32,
   "id": "596e9185",
   "metadata": {},
   "outputs": [
    {
     "data": {
      "text/plain": [
       "'Iphone'"
      ]
     },
     "execution_count": 32,
     "metadata": {},
     "output_type": "execute_result"
    }
   ],
   "source": [
    "mobile.brand_name"
   ]
  },
  {
   "cell_type": "code",
   "execution_count": 33,
   "id": "2568c108",
   "metadata": {},
   "outputs": [
    {
     "data": {
      "text/plain": [
       "'15 Pro Max'"
      ]
     },
     "execution_count": 33,
     "metadata": {},
     "output_type": "execute_result"
    }
   ],
   "source": [
    "mobile.model_name"
   ]
  },
  {
   "cell_type": "code",
   "execution_count": 34,
   "id": "cd454e1d",
   "metadata": {},
   "outputs": [
    {
     "data": {
      "text/plain": [
       "210000"
      ]
     },
     "execution_count": 34,
     "metadata": {},
     "output_type": "execute_result"
    }
   ],
   "source": [
    "mobile.price"
   ]
  },
  {
   "cell_type": "code",
   "execution_count": 35,
   "id": "779a7a7d",
   "metadata": {},
   "outputs": [
    {
     "data": {
      "text/plain": [
       "'Mobile'"
      ]
     },
     "execution_count": 35,
     "metadata": {},
     "output_type": "execute_result"
    }
   ],
   "source": [
    "mobile.product_name"
   ]
  },
  {
   "cell_type": "code",
   "execution_count": 36,
   "id": "46855186",
   "metadata": {},
   "outputs": [
    {
     "data": {
      "text/plain": [
       "'Iphone 15 Pro Max'"
      ]
     },
     "execution_count": 36,
     "metadata": {},
     "output_type": "execute_result"
    }
   ],
   "source": [
    "mobile.brandNamewithModelName"
   ]
  },
  {
   "cell_type": "code",
   "execution_count": null,
   "id": "1e403780",
   "metadata": {},
   "outputs": [],
   "source": []
  }
 ],
 "metadata": {
  "kernelspec": {
   "display_name": "Python 3 (ipykernel)",
   "language": "python",
   "name": "python3"
  },
  "language_info": {
   "codemirror_mode": {
    "name": "ipython",
    "version": 3
   },
   "file_extension": ".py",
   "mimetype": "text/x-python",
   "name": "python",
   "nbconvert_exporter": "python",
   "pygments_lexer": "ipython3",
   "version": "3.9.12"
  }
 },
 "nbformat": 4,
 "nbformat_minor": 5
}
